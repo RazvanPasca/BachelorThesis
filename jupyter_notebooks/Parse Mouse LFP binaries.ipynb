{
 "cells": [
  {
   "cell_type": "code",
   "execution_count": 1,
   "metadata": {},
   "outputs": [],
   "source": [
    "import numpy as np\n",
    "import matplotlib.pyplot as plt\n",
    "import json\n",
    "import os"
   ]
  },
  {
   "cell_type": "code",
   "execution_count": 13,
   "metadata": {},
   "outputs": [],
   "source": [
    "DATASET_M017_S001_SRCS3L_0002_PATH = \"//home//gabir//DATASETS//M017//M017//M017_S001_SRCS3L_0002\""
   ]
  },
  {
   "cell_type": "code",
   "execution_count": 33,
   "metadata": {},
   "outputs": [],
   "source": [
    "import csv \n",
    "\n",
    "class MouseLFPData:\n",
    "\n",
    "    def __init__(self, dataset_path):\n",
    "        self.description_file_path = dataset_path + \"//M017_S001_SRCS3L_25,50,100_0002.json\"\n",
    "        lfp_file_data = self._parse_description()\n",
    "        self.bin_file_names = lfp_file_data.get('bin_file_names')\n",
    "        self.trial_length = lfp_file_data.get('trial_length')\n",
    "        self.total_length = lfp_file_data.get('total_length')\n",
    "        self.sampling_frequency = lfp_file_data.get('sampling_frequency')\n",
    "        self.number_of_lfp_files = lfp_file_data.get('number_of_lfp_files')\n",
    "        self.ldf_file_version = lfp_file_data.get('ldf_file_version')\n",
    "        self.stimulus_condition_file = lfp_file_data.get('stimulus_condition_file')\n",
    "        self.number_of_conditions = lfp_file_data.get('number_of_conditions')\n",
    "        self.trials_per_condition = lfp_file_data.get('trials_per_condition')\n",
    "        self.event_codes_file_path = lfp_file_data.get('event_codes_file')\n",
    "        self.event_timestamps_file_path = lfp_file_data.get('event_timestamps_file')\n",
    "        self.event_codes = self._parse_event_codes(lfp_file_data.get('event_codes_file'))\n",
    "        self.event_timestamps = self._parse_event_timestamps(lfp_file_data.get('event_timestamps_file'))\n",
    "        self.stimulus_conditions = self._parse_stimulus_data(lfp_file_data.get('stimulus_condition_file'))\n",
    "        self.channels = self._parse_channels_data(lfp_file_data.get('bin_file_names'))\n",
    "        self.stimulus_on_at, self.stimulus_off_at = self._parse_stimulus_on_off(lfp_file_data)\n",
    "        \n",
    "    \"\"\"\n",
    "    Parses the metadata about dataset\n",
    "    \"\"\"\n",
    "    def _parse_stimulus_data(self, condition_file_path):\n",
    "        with open(os.path.join(os.path.dirname(self.description_file_path), condition_file_path),\n",
    "                  'r') as f:\n",
    "            csv_reader = csv.reader(f, delimiter=',')\n",
    "            self.condition_refresh_rate = float(next(csv_reader)[1])\n",
    "            self.experiment_duration = float(next(csv_reader)[1])\n",
    "            col_descs = next(csv_reader)\n",
    "            conditions = []\n",
    "            for row in csv_reader:\n",
    "                cond = {}\n",
    "                for index, col in enumerate(col_descs):\n",
    "                    cond[col] = row[index]\n",
    "                conditions.append(cond)\n",
    "            return conditions\n",
    "        \n",
    "    \"\"\"\n",
    "    Parses description of lfp from json\n",
    "    \"\"\"\n",
    "    def _parse_description(self):\n",
    "        with open(self.description_file_path, 'r') as f:\n",
    "            lfp_description = json.loads(f.read())\n",
    "        return lfp_description\n",
    "\n",
    "    \"\"\"\n",
    "    Parses channels signal data into a single array\n",
    "    \"\"\"\n",
    "    def _parse_channels_data(self, channels_paths):\n",
    "        return np.array(\n",
    "            [np.fromfile(open(os.path.join(os.path.dirname(self.description_file_path), channel_path), 'rb'),\n",
    "                         np.float32) for channel_path in channels_paths])\n",
    "\n",
    "    \"\"\"\n",
    "    Parses event codes\n",
    "    \"\"\"\n",
    "    def _parse_event_codes(self, file_path):\n",
    "        if file_path is None:\n",
    "            return None\n",
    "        return np.fromfile(open(os.path.join(os.path.dirname(self.description_file_path), file_path), 'rb'),\n",
    "                           np.int32)\n",
    "\n",
    "    \"\"\"\n",
    "    Parses timestamps for event codes\n",
    "    \"\"\"\n",
    "    def _parse_event_timestamps(self, file_path):\n",
    "        if file_path is None:\n",
    "            return None\n",
    "        return np.fromfile(open(os.path.join(os.path.dirname(self.description_file_path), file_path), 'rb'),\n",
    "                           np.int32)\n",
    "\n",
    "    \"\"\"\n",
    "    Parses stimulus on of from timestamps\n",
    "    \"\"\"\n",
    "    def _parse_stimulus_on_off(self, lfp_description):\n",
    "        stimulus_on_at = []\n",
    "        stimulus_off_at = []\n",
    "        for index, event in enumerate(self.event_codes):\n",
    "            if event == 129:\n",
    "                stimulus_on_at.append(self.event_timestamps[index])\n",
    "            if event == 150:\n",
    "                stimulus_off_at.append(self.event_timestamps[index])\n",
    "        return stimulus_on_at, stimulus_off_at\n",
    "\n",
    "    self.all_lfp_data = []\n",
    "        \n"
   ]
  },
  {
   "cell_type": "code",
   "execution_count": 42,
   "metadata": {},
   "outputs": [],
   "source": [
    "def load_dataset_to_ndarray(dataset_path):\n",
    "    lfp_data = MouseLFPData(dataset_path)\n",
    "\n",
    "    dataset = np.zeros((24,10,33,2672))\n",
    "    \n",
    "    for condition in range(1, lfp_data.number_of_conditions + 1):\n",
    "        trial_nr = 0\n",
    "        for stimulus_condition in lfp_data.stimulus_conditions:\n",
    "            if stimulus_condition['Condition number'] == str(condition):\n",
    "                index = int(stimulus_condition['Trial']) - 1\n",
    "                events = [{'timestamp': lfp_data.event_timestamps[4 * index + i],\n",
    "                           'code': lfp_data.event_codes[4 * index + i]} for i in range(4)]\n",
    "                dataset[condition-1, trial_nr, :, :] = lfp_data.channels[:, events[1]['timestamp']:(events[1]['timestamp'] + 2672)]\n",
    "                trial_nr += 1\n",
    "    return dataset"
   ]
  },
  {
   "cell_type": "code",
   "execution_count": 46,
   "metadata": {},
   "outputs": [
    {
     "name": "stdout",
     "output_type": "stream",
     "text": [
      "(33, 2672)\n"
     ]
    },
    {
     "data": {
      "image/png": "[encoded data removed]",
      "text/plain": [
       "<Figure size 432x288 with 1 Axes>"
      ]
     },
     "metadata": {
      "needs_background": "light"
     },
     "output_type": "display_data"
    },
    {
     "name": "stdout",
     "output_type": "stream",
     "text": [
      "float64\n"
     ]
    }
   ],
   "source": [
    "dataset = load_dataset_to_ndarray(DATASET_M017_S001_SRCS3L_0002_PATH)\n",
    "\n",
    "print(dataset[0,0,:28000].shape)\n",
    "plt.plot(dataset[0,0,0,:])\n",
    "plt.show()\n",
    "print(dataset.dtype)\n",
    "np.save(\"m017_0002.npy\", dataset)"
   ]
  },
  {
   "cell_type": "code",
   "execution_count": null,
   "metadata": {},
   "outputs": [],
   "source": [
    "old_dataset = np.load(\"/home/gabir/DATASETS/CER01A50/cer01a50.npy\")\n",
    "print(old_dataset.item()[\"channels\"].dtype)"
   ]
  },
  {
   "cell_type": "code",
   "execution_count": null,
   "metadata": {},
   "outputs": [],
   "source": []
  },
  {
   "cell_type": "code",
   "execution_count": null,
   "metadata": {},
   "outputs": [],
   "source": []
  }
 ],
 "metadata": {
  "kernelspec": {
   "display_name": "tensorflow",
   "language": "python",
   "name": "tensorflow"
  },
  "language_info": {
   "codemirror_mode": {
    "name": "ipython",
    "version": 3
   },
   "file_extension": ".py",
   "mimetype": "text/x-python",
   "name": "python",
   "nbconvert_exporter": "python",
   "pygments_lexer": "ipython3",
   "version": "3.6.7"
  }
 },
 "nbformat": 4,
 "nbformat_minor": 2
}
